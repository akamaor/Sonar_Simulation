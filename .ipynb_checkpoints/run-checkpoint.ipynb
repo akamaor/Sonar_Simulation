{
 "cells": [
  {
   "cell_type": "code",
   "execution_count": 1,
   "metadata": {
    "ExecuteTime": {
     "end_time": "2024-02-26T09:56:51.318468Z",
     "start_time": "2024-02-26T09:56:50.619688Z"
    }
   },
   "outputs": [],
   "source": [
    "from simulation import *"
   ]
  },
  {
   "cell_type": "code",
   "execution_count": 6,
   "metadata": {
    "ExecuteTime": {
     "end_time": "2024-02-26T09:56:51.369098200Z",
     "start_time": "2024-02-26T09:56:51.318468Z"
    },
    "collapsed": false,
    "jupyter": {
     "outputs_hidden": false
    }
   },
   "outputs": [
    {
     "name": "stdout",
     "output_type": "stream",
     "text": [
      "source: 0, 0, 8.5\n",
      "mic: [[-0.1, 0.0, 8.5], [0.1, 0.0, 8.5], [-0.2, 0.0, 8.5], [0.2, 0.0, 8.5]]\n"
     ]
    }
   ],
   "source": [
    "\n",
    "# Configuration start\n",
    "\n",
    "# OBJECT\n",
    "file = './test_obj/remeshed2mm.obj'\n",
    "# file = './test_obj/sample.obj'\n",
    "# file = './test_obj/box.obj'\n",
    "# file = './test_obj/sphere.obj'\n",
    "\n",
    "# Recivers Setting\n",
    "reciver_to_landscape = 8.5  # ditance to the landscape\n",
    "azimut = 0  # head direction (depend on bats)\n",
    "elevation_angle = 90  # target angle to the center point = 180 - elevation_angle\n",
    "distance_between_mics = 0.1  # pip kuli\n",
    "# distance_between_mics = 0.035  # pip kuli\n",
    "number_of_mics =4\n",
    "\n",
    "# source location\n",
    "x_source, y_source, z_source = 0,0,reciver_to_landscape\n",
    "source = [x_source, y_source, z_source]\n",
    "print(f'source: {x_source}, {y_source}, {z_source}')\n",
    "\n",
    "# recive location\n",
    "# distance of different ears of emiters because bats has two ears, which get somewhat different signals\n",
    "mic_array = calculate_reciver_poisiton(x_source, y_source, z_source, azimut, distance_between_mics, number_of_mics)\n",
    "print(f'mic: {mic_array}')\n",
    "\n",
    "# Source Setting\n",
    "min_frequncy = 25e3\n",
    "max_frequncy = 60e3  # for Pipistrellus kuhlii\n",
    "step_size = 50  # frequency step size\n",
    "source_frequancy_vector = np.arange(min_frequncy, max_frequncy + 1, step_size)  # Emitter frequencies 25 kHz to 80 kHz\n",
    "\n",
    "# simulation\n",
    "fft_step_size = 50  # frequency step size\n",
    "fft_size = 40960\n",
    "sample_rate = fft_size * fft_step_size  # sample rate (multiply in 2)\n",
    "# sample_rate = 44100  # sample rate\n",
    "length_in_seconds= 10 # sec\n",
    "total_samples = sample_rate * length_in_seconds\n",
    "\n",
    "mic_angle = 0  # Is the azimuthal angle left/right; change in script to modify for ears separately\n",
    "alpha = 0  # in radians; useful if the movement is rotational\n",
    "max_gain_of_ear_db = 21\n",
    "Em_level = 1\n",
    "speed_of_sound =343\n",
    "\n",
    "# Warning of the setting\n",
    "if sample_rate < 3 * max_frequncy:\n",
    "    print('Warning, Raise step size')\n",
    "\n",
    "# Sound pressure\n",
    "\n",
    "\n",
    "# print(source_frequancy_vector)\n",
    "\n",
    "# referance tables\n",
    "Amp_file = './ref_table/Amp.txt'\n",
    "yampl = np.loadtxt(Amp_file, delimiter='\\t')\n",
    "\n",
    "Freq_file = './ref_table/freqaxis.txt'\n",
    "freqaxis = np.loadtxt(Freq_file, delimiter='\\t')\n",
    "\n",
    "Phase_file = './ref_table/yphase.txt'\n",
    "yphase = np.loadtxt(Phase_file, delimiter='\\t')\n",
    "\n",
    "parameters = [yampl,freqaxis,yphase,Em_level,fft_size,step_size]\n",
    "\n",
    "# print(yphase)\n",
    "# Configuration end\n",
    "\n"
   ]
  },
  {
   "cell_type": "code",
   "execution_count": 7,
   "metadata": {
    "collapsed": false,
    "jupyter": {
     "outputs_hidden": false
    }
   },
   "outputs": [
    {
     "name": "stdout",
     "output_type": "stream",
     "text": [
      "Notice: the projrction points is in minus, it is fixed .\n",
      "selected triange number:  9777 out of  9865\n"
     ]
    }
   ],
   "source": [
    "\n",
    "\n",
    "# read the file\n",
    "vertices, faces_v = readObj(file)\n",
    "\n",
    "# center the vertices\n",
    "vertices = centerGeom(vertices)\n",
    "# print(vertices)\n",
    "\n",
    "# compute the normal using vertices and faces\n",
    "normals = getNormals(vertices, faces_v) #normals of the object Finate Element tringle\n",
    "centroids = getCentroids(vertices, faces_v) # centroid of each tringle\n",
    "# print(centroids)\n",
    "\n",
    "# compute the average edge length\n",
    "triangle_edge_distances = SeparateEdgeLength(vertices, faces_v)\n",
    "# print(mean_edge_distance)\n",
    "\n",
    "# select all the triangle that projected from the source\n",
    "sel_centroids, sel_projpoints, sel_source2centroids, fake_position = \\\n",
    "    distance_to_surface(source, centroids, normals)\n",
    "print('selected triange number: ', len(sel_centroids), 'out of ', len(centroids))\n",
    "\n",
    "# calculate recivers distance:\n",
    "mics_angles_array, all_distancesTOWARDS_r, all_distances_back_mics = get_reciver_distances_and_angles(mic_array, sel_centroids, sel_projpoints, sel_source2centroids)\n",
    "\n",
    "HRTF_omni_array = HRTF_receiver_script_omni(mic_array, sel_centroids, source_frequancy_vector, max_gain_of_ear_db)"
   ]
  },
  {
   "cell_type": "code",
   "execution_count": null,
   "metadata": {
    "ExecuteTime": {
     "end_time": "2024-02-26T10:00:47.316791Z",
     "start_time": "2024-02-26T10:00:47.255835300Z"
    },
    "collapsed": false,
    "jupyter": {
     "outputs_hidden": false
    }
   },
   "outputs": [],
   "source": []
  },
  {
   "cell_type": "code",
   "execution_count": 8,
   "metadata": {
    "ExecuteTime": {
     "end_time": "2024-02-26T09:58:36.988657700Z",
     "start_time": "2024-02-26T09:58:36.959087800Z"
    },
    "collapsed": false,
    "jupyter": {
     "outputs_hidden": false
    }
   },
   "outputs": [
    {
     "ename": "NameError",
     "evalue": "name 'step_size' is not defined",
     "output_type": "error",
     "traceback": [
      "\u001b[1;31m---------------------------------------------------------------------------\u001b[0m",
      "\u001b[1;31mNameError\u001b[0m                                 Traceback (most recent call last)",
      "Cell \u001b[1;32mIn[8], line 3\u001b[0m\n\u001b[0;32m      1\u001b[0m \u001b[38;5;66;03m#\u001b[39;00m\n\u001b[0;32m      2\u001b[0m \u001b[38;5;66;03m# # Sonar_simulation with single\u001b[39;00m\n\u001b[1;32m----> 3\u001b[0m wave_power_array , sound_wave_array \u001b[38;5;241m=\u001b[39m \u001b[43mcreate_echo_single_triangles\u001b[49m\u001b[43m(\u001b[49m\u001b[43mtriangle_edge_distances\u001b[49m\u001b[43m[\u001b[49m\u001b[43mfake_position\u001b[49m\u001b[43m]\u001b[49m\u001b[43m,\u001b[49m\u001b[43m \u001b[49m\u001b[43mmics_angles_array\u001b[49m\u001b[43m,\u001b[49m\u001b[43m \u001b[49m\u001b[43mall_distancesTOWARDS_r\u001b[49m\u001b[43m,\u001b[49m\u001b[43m \u001b[49m\u001b[43mall_distances_back_mics\u001b[49m\u001b[43m,\u001b[49m\u001b[43m \u001b[49m\u001b[43mHRTF_omni_array\u001b[49m\u001b[43m,\u001b[49m\u001b[43msource_frequancy_vector\u001b[49m\u001b[43m,\u001b[49m\u001b[43mparameters\u001b[49m\u001b[43m)\u001b[49m\n\u001b[0;32m      4\u001b[0m \u001b[38;5;66;03m# print(wave_power, wave_power.shape)\u001b[39;00m\n",
      "File \u001b[1;32m~\\Desktop\\תואר שני\\sonar_simulator_python_version_20240216\\simulation.py:541\u001b[0m, in \u001b[0;36mcreate_echo_single_triangles\u001b[1;34m(edgeLengths, mics_angles_array, all_distancesTOWARDS, all_distances_back_mics, HRTF_corr_array, source_frequancy_vector, parameters)\u001b[0m\n\u001b[0;32m    539\u001b[0m Power \u001b[38;5;241m=\u001b[39m np\u001b[38;5;241m.\u001b[39mzeros(fft_size, dtype\u001b[38;5;241m=\u001b[39m\u001b[38;5;124m\"\u001b[39m\u001b[38;5;124mcomplex_\u001b[39m\u001b[38;5;124m\"\u001b[39m)\n\u001b[0;32m    540\u001b[0m \u001b[38;5;28;01mif\u001b[39;00m \u001b[38;5;28mlen\u001b[39m(source_frequancy_vector) \u001b[38;5;241m==\u001b[39m \u001b[38;5;28mlen\u001b[39m(strength_ear):\n\u001b[1;32m--> 541\u001b[0m     indexes \u001b[38;5;241m=\u001b[39m [\u001b[38;5;28mint\u001b[39m(i \u001b[38;5;241m-\u001b[39m \u001b[38;5;241m1\u001b[39m) \u001b[38;5;28;01mfor\u001b[39;00m i \u001b[38;5;129;01min\u001b[39;00m source_frequancy_vector \u001b[38;5;241m/\u001b[39m \u001b[43mstep_size\u001b[49m]\n\u001b[0;32m    542\u001b[0m     Power[indexes] \u001b[38;5;241m=\u001b[39m strength_ear\n\u001b[0;32m    543\u001b[0m \u001b[38;5;28;01melse\u001b[39;00m:\n",
      "\u001b[1;31mNameError\u001b[0m: name 'step_size' is not defined"
     ]
    }
   ],
   "source": [
    "\n",
    "#\n",
    "# # Sonar_simulation with single\n",
    "wave_power_array , sound_wave_array = create_echo_single_triangles(triangle_edge_distances[fake_position], mics_angles_array, all_distancesTOWARDS_r, all_distances_back_mics, HRTF_omni_array,source_frequancy_vector,parameters)\n",
    "# print(wave_power, wave_power.shape)"
   ]
  },
  {
   "cell_type": "code",
   "execution_count": null,
   "metadata": {
    "ExecuteTime": {
     "end_time": "2024-02-26T09:58:12.557830900Z",
     "start_time": "2024-02-26T09:58:12.524019100Z"
    },
    "collapsed": false,
    "jupyter": {
     "outputs_hidden": false
    }
   },
   "outputs": [],
   "source": [
    "\n",
    "# # plot of the sound wave from both microphone\n",
    "fig, ax = plt.subplots(len(sound_wave_array))\n",
    "fig.suptitle('Sound wave format')\n",
    "for i, sound_wave in enumerate(sound_wave_array):\n",
    "    Time_axis = np.linspace(0, len(sound_wave) / sample_rate, len(sound_wave))\n",
    "    ax[i].plot(Time_axis, sound_wave)\n",
    "plt.show()\n"
   ]
  },
  {
   "cell_type": "code",
   "execution_count": null,
   "metadata": {
    "collapsed": false,
    "jupyter": {
     "outputs_hidden": false
    }
   },
   "outputs": [],
   "source": [
    "def create_echoes(waves, Fs, echo_intervals):\n",
    "    \"\"\"\n",
    "    Create echoes of sound waves for multiple receivers with specified intervals.\n",
    "    \"\"\"\n",
    "    combined_waves_with_echoes = []\n",
    "\n",
    "    for wave in waves:\n",
    "        # Create empty list to store delayed echoes for this receiver\n",
    "        echoes = []\n",
    "\n",
    "        # Apply delays to the original sound wave for this receiver\n",
    "        for interval in echo_intervals:\n",
    "            # Calculate the number of samples to delay based on the delay interval and sample rate\n",
    "            delay_samples = int(interval * Fs)\n",
    "\n",
    "            # Create a delayed version of the original sound wave using zero-padding\n",
    "            delayed_wave = np.concatenate((np.zeros(delay_samples), wave))\n",
    "\n",
    "            # Append the delayed version to the list of echoes\n",
    "            echoes.append(delayed_wave)\n",
    "\n",
    "        # Combine the original sound wave with the echoes for this receiver\n",
    "        combined_wave = np.sum(echoes, axis=0)\n",
    "\n",
    "        # Append the combined wave with echoes to the list\n",
    "        combined_waves_with_echoes.append(combined_wave)\n",
    "\n",
    "    return combined_waves_with_echoes"
   ]
  },
  {
   "cell_type": "code",
   "execution_count": null,
   "metadata": {
    "collapsed": false,
    "jupyter": {
     "outputs_hidden": false
    }
   },
   "outputs": [],
   "source": [
    "\n",
    "# Sonar_simulation with with interval from each echo\n",
    "echo_interval = [10, 20, 30]\n",
    "combined_waves_with_echoes = create_echoes(sound_wave_array, sample_rate, echo_interval)\n",
    "# # plot of the sound wave from both microphone\n",
    "fig, ax = plt.subplots(len(combined_waves_with_echoes))\n",
    "fig.suptitle('Sound wave format')\n",
    "for i, ww in enumerate(combined_waves_with_echoes):\n",
    "    Time_axis = np.linspace(1 / sample_rate, len(ww) / sample_rate, len(ww))\n",
    "    ax[i].plot(Time_axis, ww)\n",
    "plt.show()"
   ]
  },
  {
   "cell_type": "code",
   "execution_count": null,
   "metadata": {},
   "outputs": [],
   "source": []
  },
  {
   "cell_type": "code",
   "execution_count": null,
   "metadata": {},
   "outputs": [],
   "source": []
  },
  {
   "cell_type": "code",
   "execution_count": null,
   "metadata": {},
   "outputs": [],
   "source": []
  },
  {
   "cell_type": "code",
   "execution_count": null,
   "metadata": {},
   "outputs": [],
   "source": []
  },
  {
   "cell_type": "code",
   "execution_count": null,
   "metadata": {},
   "outputs": [],
   "source": []
  },
  {
   "cell_type": "code",
   "execution_count": null,
   "metadata": {},
   "outputs": [],
   "source": []
  },
  {
   "cell_type": "code",
   "execution_count": null,
   "metadata": {},
   "outputs": [],
   "source": []
  }
 ],
 "metadata": {
  "kernelspec": {
   "display_name": "Python 3 (ipykernel)",
   "language": "python",
   "name": "python3"
  },
  "language_info": {
   "codemirror_mode": {
    "name": "ipython",
    "version": 3
   },
   "file_extension": ".py",
   "mimetype": "text/x-python",
   "name": "python",
   "nbconvert_exporter": "python",
   "pygments_lexer": "ipython3",
   "version": "3.11.6"
  }
 },
 "nbformat": 4,
 "nbformat_minor": 4
}
